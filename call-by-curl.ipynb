{
 "cells": [
  {
   "cell_type": "code",
   "execution_count": 1,
   "id": "5f401b23-82be-494b-bd64-21ec47b8273a",
   "metadata": {},
   "outputs": [
    {
     "name": "stdout",
     "output_type": "stream",
     "text": [
      "curl \"https://api.openai.com/v1/chat/completions\" \\\n",
      "    -H \"Content-Type: application/json\" \\\n",
      "    -H \"Authorization: Bearer $OPENAI_API_KEY\" \\\n",
      "    -d '{\n",
      "        \"model\": \"gpt-4o-mini\",\n",
      "        \"messages\": [\n",
      "            {\n",
      "                \"role\": \"system\",\n",
      "                \"content\": \"You are a helpful assistant. Answer in Korean.\"\n",
      "            },\n",
      "            {\n",
      "                \"role\": \"user\",\n",
      "                \"content\": \"Write a haiku that explains the concept of recursion.\"\n",
      "            }\n",
      "        ]\n",
      "    }'"
     ]
    }
   ],
   "source": [
    "!cat ./chat-completions.sh"
   ]
  },
  {
   "cell_type": "code",
   "execution_count": 2,
   "id": "43fe3f05-ef82-42bc-b36c-b6ca1e956927",
   "metadata": {},
   "outputs": [],
   "source": [
    "!chmod +x ./chat-completions.sh"
   ]
  },
  {
   "cell_type": "code",
   "execution_count": null,
   "id": "287b7cd8-7987-4c7a-b80e-69e59d5f6da6",
   "metadata": {
    "scrolled": true
   },
   "outputs": [],
   "source": [
    "!echo $OPENAI_API_KEY"
   ]
  },
  {
   "cell_type": "code",
   "execution_count": 4,
   "id": "6783cb7a-a075-477d-9fcc-d0ab952a9931",
   "metadata": {
    "editable": true,
    "slideshow": {
     "slide_type": ""
    },
    "tags": []
   },
   "outputs": [
    {
     "name": "stdout",
     "output_type": "stream",
     "text": [
      "{\n",
      "  \"id\": \"chatcmpl-AJ9X2lbxLir2JLyggLlKJsYCV2HzC\",\n",
      "  \"object\": \"chat.completion\",\n",
      "  \"created\": 1729128236,\n",
      "  \"model\": \"gpt-4o-mini-2024-07-18\",\n",
      "  \"choices\": [\n",
      "    {\n",
      "      \"index\": 0,\n",
      "      \"message\": {\n",
      "        \"role\": \"assistant\",\n",
      "        \"content\": \"깊은 숲속 길,  \\n자신을 다시 찾아,  \\n끝없는 반향.\",\n",
      "        \"refusal\": null\n",
      "      },\n",
      "      \"logprobs\": null,\n",
      "      \"finish_reason\": \"stop\"\n",
      "    }\n",
      "  ],\n",
      "  \"usage\": {\n",
      "    \"prompt_tokens\": 32,\n",
      "    \"completion_tokens\": 21,\n",
      "    \"total_tokens\": 53,\n",
      "    \"prompt_tokens_details\": {\n",
      "      \"cached_tokens\": 0\n",
      "    },\n",
      "    \"completion_tokens_details\": {\n",
      "      \"reasoning_tokens\": 0\n",
      "    }\n",
      "  },\n",
      "  \"system_fingerprint\": \"fp_8552ec53e1\"\n",
      "}\n"
     ]
    }
   ],
   "source": [
    "!./chat-completions.sh"
   ]
  }
 ],
 "metadata": {
  "kernelspec": {
   "display_name": "Python 3 (ipykernel)",
   "language": "python",
   "name": "python3"
  },
  "language_info": {
   "codemirror_mode": {
    "name": "ipython",
    "version": 3
   },
   "file_extension": ".py",
   "mimetype": "text/x-python",
   "name": "python",
   "nbconvert_exporter": "python",
   "pygments_lexer": "ipython3",
   "version": "3.12.7"
  }
 },
 "nbformat": 4,
 "nbformat_minor": 5
}
